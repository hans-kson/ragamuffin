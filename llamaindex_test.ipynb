{
 "cells": [
  {
   "cell_type": "code",
   "execution_count": null,
   "metadata": {},
   "outputs": [],
   "source": [
    "#<imports>\n",
    "#for access token\n",
    "import os\n",
    "from getpass import getpass\n",
    "\n",
    "#for llamaindex\n",
    "from llama_index.core import VectorStoreIndex, SimpleDirectoryReader\n",
    "from llama_index.readers.web import SimpleWebPageReader\n",
    "from llama_index.core import ServiceContext, StorageContext,load_index_from_storage, Settings\n",
    "from llama_index.core.node_parser import SimpleNodeParser, MarkdownNodeParser, SentenceSplitter\n",
    "from langchain.embeddings import HuggingFaceInferenceAPIEmbeddings\n",
    "from llama_index.embeddings.langchain import LangchainEmbedding\n",
    "from llama_index.llms.huggingface import HuggingFaceInferenceAPI\n",
    "\n",
    "#getting respones\n",
    "from llama_index.core import get_response_synthesizer\n",
    "from llama_index.core.query_engine import RetrieverQueryEngine\n",
    "from llama_index.core.retrievers import VectorIndexRetriever\n",
    "\n",
    "#<\\imports>"
   ]
  },
  {
   "cell_type": "code",
   "execution_count": null,
   "metadata": {},
   "outputs": [],
   "source": [
    "#<get access token>\n",
    "HF_TOKEN = getpass()\n",
    "os.environ['HUGGINGFACEHUB_API_TOKEN'] = HF_TOKEN\n",
    "#<\\get access token>"
   ]
  },
  {
   "cell_type": "code",
   "execution_count": null,
   "metadata": {},
   "outputs": [],
   "source": [
    "# <settings>\n",
    "# Persist Directory - The persist directory in LlamaIndex is the location on disk where the indexed data and metadata are stored to avoid the time and cost of re-indexing the data.\n",
    "# LLM Model - LLM Model uses the query and the retrieved documents to generate a response\n",
    "# Embedding Model - Embedding Model generates vector embeddings which are to be stored in a vector store.\n",
    "PERSIST_DIR = \"./storage\"\n",
    "MODEL_NAME = \"HuggingFaceH4/zephyr-7b-beta\"\n",
    "EMBED_MODEL = \"thenlper/gte-large\"\n",
    "\n",
    "Settings.llm = HuggingFaceInferenceAPI(model_name=MODEL_NAME, token=HF_TOKEN)\n",
    "Settings.embed_model = LangchainEmbedding(HuggingFaceInferenceAPIEmbeddings(api_key=HF_TOKEN,\n",
    "model_name=EMBED_MODEL))\n",
    "# <\\settings>"
   ]
  },
  {
   "cell_type": "code",
   "execution_count": null,
   "metadata": {},
   "outputs": [],
   "source": [
    "#<add data to persist directory>\n",
    "if not os.path.exists(PERSIST_DIR):\n",
    "    documents = SimpleDirectoryReader(\"data\").load_data()\n",
    "    parser = SimpleNodeParser()\n",
    "    nodes = parser.get_nodes_from_documents(documents)\n",
    "\n",
    "    storage_context = StorageContext.from_defaults() #vector store\n",
    "    index = VectorStoreIndex(nodes, storage_context=storage_context)\n",
    "    index.storage_context.persist(persist_dir=PERSIST_DIR)\n",
    "else:\n",
    "    storage_context = StorageContext.from_defaults(persist_dir=PERSIST_DIR)\n",
    "    index = load_index_from_storage(storage_context)\n",
    "#<\\add data to persist directory>"
   ]
  },
  {
   "cell_type": "code",
   "execution_count": null,
   "metadata": {},
   "outputs": [],
   "source": [
    "#<defining query engine>\n",
    "query_engine = index.as_query_engine()\n",
    "#<\\defining query engine>"
   ]
  },
  {
   "cell_type": "code",
   "execution_count": null,
   "metadata": {},
   "outputs": [],
   "source": [
    "#<make a query>\n",
    "query_engine.query(\"summarize the story\")\n",
    "#<\\make a query>"
   ]
  },
  {
   "cell_type": "code",
   "execution_count": null,
   "metadata": {},
   "outputs": [],
   "source": [
    "#<generating responses>\n",
    "response_synthesizer = get_response_synthesizer()\n",
    "vector_retriever = VectorIndexRetriever(index=index, similarity_top_k=2)\n",
    "vector_query_engine = RetrieverQueryEngine(retriever=vector_retriever, response_synthesizer=response_synthesizer,)\n",
    "#<\\generating responses>"
   ]
  },
  {
   "cell_type": "code",
   "execution_count": null,
   "metadata": {},
   "outputs": [],
   "source": [
    "#<getting a response>\n",
    "print(vector_query_engine.query(\"summarize the text\"))\n",
    "#<\\getting a response>"
   ]
  }
 ],
 "metadata": {
  "kernelspec": {
   "display_name": "ragamuffin",
   "language": "python",
   "name": "python3"
  },
  "language_info": {
   "codemirror_mode": {
    "name": "ipython",
    "version": 3
   },
   "file_extension": ".py",
   "mimetype": "text/x-python",
   "name": "python",
   "nbconvert_exporter": "python",
   "pygments_lexer": "ipython3",
   "version": "3.10.14"
  },
  "orig_nbformat": 4
 },
 "nbformat": 4,
 "nbformat_minor": 2
}
