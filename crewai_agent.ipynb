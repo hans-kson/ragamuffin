{
  "cells": [
    {
      "cell_type": "code",
      "execution_count": null,
      "metadata": {
        "colab": {
          "base_uri": "https://localhost:8080/"
        },
        "collapsed": true,
        "id": "skNPGR0u7hH2",
        "outputId": "bcb5d997-9b4b-47d8-c433-4f1ce74d6146"
      },
      "outputs": [],
      "source": [
        "# pip install  crewai  crewai_tools crewai langchain langchain_google-genai -q"
      ]
    },
    {
      "cell_type": "code",
      "execution_count": null,
      "metadata": {
        "id": "w0VHxXrD9LXT"
      },
      "outputs": [],
      "source": [
        "from crewai import Agent, Task, Crew, Process\n",
        "import sys\n"
      ]
    },
    {
      "cell_type": "code",
      "execution_count": null,
      "metadata": {
        "colab": {
          "base_uri": "https://localhost:8080/",
          "height": 329
        },
        "id": "PGHI5NmcOXj3",
        "outputId": "a6b4f434-2efa-447f-a345-937459158e99"
      },
      "outputs": [],
      "source": [
        "\n",
        "import getpass\n",
        "import os\n",
        "\n",
        "if \"GOOGLE_API_KEY\" not in os.environ:\n",
        "    os.environ[\"GOOGLE_API_KEY\"] = getpass.getpass(\"Provide your Google API Key\")"
      ]
    },
    {
      "cell_type": "code",
      "execution_count": null,
      "metadata": {
        "id": "9syJNYE2PV85"
      },
      "outputs": [],
      "source": [
        "from langchain_google_genai import ChatGoogleGenerativeAI\n",
        "\n",
        "llm = ChatGoogleGenerativeAI(model=\"gemini-pro\")\n"
      ]
    },
    {
      "cell_type": "code",
      "execution_count": null,
      "metadata": {
        "id": "N4rPjKayT_PG"
      },
      "outputs": [],
      "source": [
        "def get_blog_topic():\n",
        "    return input(\"Enter the topic you want for the blog: \")"
      ]
    },
    {
      "cell_type": "code",
      "execution_count": null,
      "metadata": {
        "id": "hCHbGa7bUDov"
      },
      "outputs": [],
      "source": [
        "blog_topic = get_blog_topic()\n"
      ]
    },
    {
      "cell_type": "code",
      "execution_count": null,
      "metadata": {
        "id": "WYTKOhdZUI54"
      },
      "outputs": [],
      "source": [
        "\n",
        "researcher = Agent(\n",
        "    role=\"Research\",\n",
        "    goal=f\"Research on {blog_topic}\",\n",
        "    backstory=f\"You are an AI bot which is interested in understanding {blog_topic} and will search most relevant information on it.\",\n",
        "    verbose=True,\n",
        "    allow_delegation=False,\n",
        "    llm=llm)"
      ]
    },
    {
      "cell_type": "code",
      "execution_count": null,
      "metadata": {
        "id": "Kbo5jMv5P0sW"
      },
      "outputs": [],
      "source": [
        "writer = Agent(\n",
        "    role=\"writer\",\n",
        "    goal=f\"To write a funny but informative blog post on {blog_topic}\",\n",
        "    backstory=f\"You are an AI Assistant who is really good at writing blogs that are both funny and informative at the same time.\",\n",
        "    verbose=True,\n",
        "    allow_delegation=False,\n",
        "    llm=llm\n",
        ")\n"
      ]
    },
    {
      "cell_type": "code",
      "execution_count": null,
      "metadata": {
        "id": "nmD7IbAZQ2fD"
      },
      "outputs": [],
      "source": [
        "task1 = Task(\n",
        "    description=f\"Investigate {blog_topic}\",\n",
        "    agent=researcher,\n",
        "    expected_output=f\"Detailed research on {blog_topic}.\"\n",
        ")\n",
        "task2 = Task(\n",
        "    description=f\"Write an interesting blog post about {blog_topic}\",\n",
        "    agent=writer,\n",
        "    expected_output=f\"Engaging blog post explaining {blog_topic} in a simple and relatable way.\"\n",
        ")\n"
      ]
    },
    {
      "cell_type": "code",
      "execution_count": null,
      "metadata": {
        "colab": {
          "base_uri": "https://localhost:8080/"
        },
        "id": "-6csDNtCRfaS",
        "outputId": "e745ec61-fac0-4d9c-efc4-13934f3c0398"
      },
      "outputs": [],
      "source": [
        "crew = Crew(\n",
        "    agents=[researcher, writer],\n",
        "    tasks=[task1, task2],\n",
        "    verbose=2,\n",
        "    process=Process.sequential\n",
        ")\n"
      ]
    },
    {
      "cell_type": "code",
      "execution_count": null,
      "metadata": {
        "colab": {
          "base_uri": "https://localhost:8080/"
        },
        "id": "HCw-L-45RkPI",
        "outputId": "67a876a0-3874-4eef-d62d-03ead2886861"
      },
      "outputs": [],
      "source": [
        "result = crew.kickoff()\n",
        "\n",
        "print(result)"
      ]
    }
  ],
  "metadata": {
    "colab": {
      "provenance": []
    },
    "kernelspec": {
      "display_name": "Python 3",
      "name": "python3"
    },
    "language_info": {
      "name": "python"
    }
  },
  "nbformat": 4,
  "nbformat_minor": 0
}
